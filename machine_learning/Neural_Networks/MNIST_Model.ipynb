{
 "cells": [
  {
   "cell_type": "code",
   "execution_count": 5,
   "metadata": {},
   "outputs": [
    {
     "data": {
      "text/plain": [
       "'\\ninput_data > weights > hidden layer 1 (activation function) > weights > \\n                       hidden layer 2 (activation function) > weights >\\n                       hidden layer 3 (activation function) > weights >\\n                       output_layer\\n\\ncompare output to intended output > cost function (cross entropy)\\noptimization function (optimizer) > minimize cost (AdamOptimizer) \\n\\nbackpropagation\\n\\nfeed forward + backpropagation = epoch (total 10-15 will be sufficient for this dataset)\\n\\n'"
      ]
     },
     "execution_count": 5,
     "metadata": {},
     "output_type": "execute_result"
    }
   ],
   "source": [
    "import tensorflow as tf\n",
    "from tensorflow.examples.tutorials.mnist import input_data\n",
    "\n",
    "# Extracting Input Data\n",
    "\n",
    "mnist = input_data.read_data_sets(\"/tmp/data\", one_hot = True)\n",
    "\n",
    "'''one_hot denotes that any one of the elements in the matrix (dimension -> number of nodes in output layer) will be 1.\n",
    "\n",
    "1 = [1, 0, 0, 0, 0, 0, 0, 0, 0, 0, 0]\n",
    "2 = [0, 1, 0, 0, 0, 0, 0, 0, 0, 0, 0]\n",
    "3 = [0, 0, 1, 0, 0, 0, 0, 0, 0, 0, 0]\n",
    "...\n",
    "9 = [0, 0, 0, 0, 0, 0, 0, 0, 0, 0, 1]\n",
    "\n",
    "'''\n",
    "\n",
    "# Steps\n",
    "\n",
    "'''\n",
    "input_data > weights > hidden layer 1 (activation function) > weights > \n",
    "                       hidden layer 2 (activation function) > weights >\n",
    "                       hidden layer 3 (activation function) > weights >\n",
    "                       output_layer\n",
    "\n",
    "compare output to intended output > cost function (cross entropy)\n",
    "optimization function (optimizer) > minimize cost (AdamOptimizer) \n",
    "\n",
    "backpropagation\n",
    "\n",
    "feed forward + backpropagation = epoch (total 10-15 will be sufficient for this dataset)\n",
    "\n",
    "'''\n",
    "\n",
    "# Defining nodes for each layer\n",
    "\n",
    "n_nodes_hl = [784, 500, 500, 500, 10]\n",
    "\n",
    "x = tf.placeholder('float', shape = (None, 784))\n",
    "y = tf.placeholder('float')\n",
    "\n",
    "def neural_network_model(data):\n",
    "    hidden_layer = []\n",
    "    for i in range(len(n_nodes_hl) - 1):\n",
    "        hidden_layer.append({'weights': tf.Variable(tf.random_normal([n_nodes_hl[i], n_nodes_hl[i + 1]])),\n",
    "                                'biases': tf.Variable(tf.random_normal([n_nodes_hl[i + 1]]))})\n",
    "    \n",
    "    layers = [data]\n",
    "    for i in range(len(hidden_l1_layer) - 1):\n",
    "        # hidden_layer * weights + biases\n",
    "        l = tf.add(tf.matmul(layers[i], hidden_layer[i]['weights']), hidden_layer[i]['biases'])\n",
    "        layers.append(tf.nn.relu(l))\n",
    "    \n",
    "    output = tf.matmul(layers[-1], hidden_layer[-1]['weights']) + hidden_layer[-1]['biases']\n",
    "    \n",
    "    return output"
   ]
  },
  {
   "cell_type": "code",
   "execution_count": null,
   "metadata": {},
   "outputs": [],
   "source": []
  }
 ],
 "metadata": {
  "kernelspec": {
   "display_name": "Python 3",
   "language": "python",
   "name": "python3"
  },
  "language_info": {
   "codemirror_mode": {
    "name": "ipython",
    "version": 3
   },
   "file_extension": ".py",
   "mimetype": "text/x-python",
   "name": "python",
   "nbconvert_exporter": "python",
   "pygments_lexer": "ipython3",
   "version": "3.6.9"
  }
 },
 "nbformat": 4,
 "nbformat_minor": 2
}
