{
 "cells": [
  {
   "cell_type": "code",
   "execution_count": 8,
   "metadata": {},
   "outputs": [],
   "source": [
    "import numpy as np\n",
    "import matplotlib.pyplot as plt\n",
    "import os, cv2\n",
    "\n",
    "DATADIR = \"D:\\\\Dataset\\\\Microsoft Cats and Dogs\\\\PetImages\"\n",
    "CATEGORIES = [\"Dog\", \"Cat\"]\n",
    "training_data = []\n",
    "\n",
    "def create_training_data():\n",
    "    for category in CATEGORIES:\n",
    "        path = os.path.join(DATADIR, category)\n",
    "        class_num = CATEGORIES.index(category)\n",
    "        for img in os.listdir(path):\n",
    "            try:\n",
    "                img_array = cv2.imread(os.path.join(path, img), cv2.IMREAD_GRAYSCALE)\n",
    "                #plt.imshow(img_array, cmap = 'gray')\n",
    "                #plt.show()\n",
    "                new_array = cv2.resize(img_array, (50, 50))\n",
    "                training_data.append([new_array, class_num])\n",
    "            except Exception as e:\n",
    "                pass\n",
    "\n",
    "create_training_data()"
   ]
  },
  {
   "cell_type": "code",
   "execution_count": 9,
   "metadata": {},
   "outputs": [
    {
     "name": "stdout",
     "output_type": "stream",
     "text": [
      "24946\n"
     ]
    }
   ],
   "source": [
    "print(len(training_data))"
   ]
  },
  {
   "cell_type": "code",
   "execution_count": 12,
   "metadata": {},
   "outputs": [],
   "source": [
    "import random\n",
    "random.shuffle(training_data)\n",
    "\n",
    "# for sample in training_data:\n",
    "#     print(sample[1])"
   ]
  },
  {
   "cell_type": "code",
   "execution_count": 14,
   "metadata": {},
   "outputs": [],
   "source": [
    "X = []\n",
    "y = []\n",
    "IMG_SIZE = 50\n",
    "\n",
    "for features, label in training_data:\n",
    "    X.append(features)\n",
    "    y.append(label)\n",
    "\n",
    "X = np.array(X).reshape(-1, IMG_SIZE, IMG_SIZE, 1)"
   ]
  },
  {
   "cell_type": "code",
   "execution_count": 15,
   "metadata": {},
   "outputs": [],
   "source": [
    "import pickle\n",
    "pickle_out_X = open('X.pickle', 'wb')\n",
    "pickle.dump(X, pickle_out_X)\n",
    "pickle_out_X.close()\n",
    "\n",
    "pickle_out_y = open('y.pickle', 'wb')\n",
    "pickle.dump(y, pickle_out_y)\n",
    "pickle_out_y.close()"
   ]
  },
  {
   "cell_type": "code",
   "execution_count": 16,
   "metadata": {},
   "outputs": [
    {
     "name": "stdout",
     "output_type": "stream",
     "text": [
      "[[[149]\n",
      "  [144]\n",
      "  [145]\n",
      "  ...\n",
      "  [130]\n",
      "  [131]\n",
      "  [133]]\n",
      "\n",
      " [[152]\n",
      "  [151]\n",
      "  [150]\n",
      "  ...\n",
      "  [130]\n",
      "  [136]\n",
      "  [138]]\n",
      "\n",
      " [[151]\n",
      "  [149]\n",
      "  [155]\n",
      "  ...\n",
      "  [137]\n",
      "  [139]\n",
      "  [144]]\n",
      "\n",
      " ...\n",
      "\n",
      " [[185]\n",
      "  [211]\n",
      "  [239]\n",
      "  ...\n",
      "  [ 54]\n",
      "  [ 60]\n",
      "  [ 42]]\n",
      "\n",
      " [[180]\n",
      "  [234]\n",
      "  [238]\n",
      "  ...\n",
      "  [ 55]\n",
      "  [ 59]\n",
      "  [ 48]]\n",
      "\n",
      " [[172]\n",
      "  [229]\n",
      "  [210]\n",
      "  ...\n",
      "  [ 66]\n",
      "  [ 57]\n",
      "  [ 55]]]\n"
     ]
    }
   ],
   "source": [
    "import pickle\n",
    "\n",
    "pickle_in = open('X.pickle', 'rb')\n",
    "X = pickle.load(pickle_in)\n",
    "print(X[1])"
   ]
  },
  {
   "cell_type": "code",
   "execution_count": null,
   "metadata": {},
   "outputs": [],
   "source": []
  }
 ],
 "metadata": {
  "kernelspec": {
   "display_name": "Python 3",
   "language": "python",
   "name": "python3"
  },
  "language_info": {
   "codemirror_mode": {
    "name": "ipython",
    "version": 3
   },
   "file_extension": ".py",
   "mimetype": "text/x-python",
   "name": "python",
   "nbconvert_exporter": "python",
   "pygments_lexer": "ipython3",
   "version": "3.6.9"
  }
 },
 "nbformat": 4,
 "nbformat_minor": 2
}
