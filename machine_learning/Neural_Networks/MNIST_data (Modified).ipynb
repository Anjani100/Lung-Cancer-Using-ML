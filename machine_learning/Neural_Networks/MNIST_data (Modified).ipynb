{
 "cells": [
  {
   "cell_type": "code",
   "execution_count": 41,
   "metadata": {},
   "outputs": [
    {
     "name": "stdout",
     "output_type": "stream",
     "text": [
      "Epoch 1/5\n",
      "60000/60000 [==============================] - 4s 69us/step - loss: 0.3126 - acc: 0.9093\n",
      "Epoch 2/5\n",
      "60000/60000 [==============================] - 3s 57us/step - loss: 0.1374 - acc: 0.9583\n",
      "Epoch 3/5\n",
      "60000/60000 [==============================] - 3s 57us/step - loss: 0.0959 - acc: 0.9695\n",
      "Epoch 4/5\n",
      "60000/60000 [==============================] - 3s 55us/step - loss: 0.0744 - acc: 0.9763\n",
      "Epoch 5/5\n",
      "60000/60000 [==============================] - 3s 55us/step - loss: 0.0588 - acc: 0.9809\n",
      "10000/10000 [==============================] - 1s 56us/step\n",
      "0.09281862094486132 0.9712\n"
     ]
    }
   ],
   "source": [
    "import tensorflow as tf\n",
    "import matplotlib.pyplot as plt\n",
    "import numpy as np\n",
    "\n",
    "mnist = tf.keras.datasets.mnist\n",
    "# 28 * 28 images of hand-written digit 0-9\n",
    "(x_train, y_train), (x_test, y_test) = mnist.load_data()\n",
    "\n",
    "# Unpacking the data\n",
    "# print(x_train[0])\n",
    "\n",
    "# plt.imshow(x_train[0])\n",
    "# plt.imshow(x_train[0], cmap = plt.cm.binary) # To show the original greyscale image\n",
    "# plt.show()\n",
    "\n",
    "x_train = tf.keras.utils.normalize(x_train, axis = 1)  # This brings down the value of the tensors from a range of 0-255 to 0-1\n",
    "x_test = tf.keras.utils.normalize(x_test, axis = 1)    # This provides a better accuracy for the model (40 % without normalization\n",
    "                                                       #                                                97 % with normalization)\n",
    "\n",
    "model = tf.keras.models.Sequential()\n",
    "model.add(tf.keras.layers.Flatten(input_shape=(28,28)))\n",
    "model.add(tf.keras.layers.Dense(64, activation = tf.nn.relu))\n",
    "model.add(tf.keras.layers.Dense(128, activation = tf.nn.relu))\n",
    "model.add(tf.keras.layers.Dense(10, activation = tf.nn.softmax))\n",
    "\n",
    "model.compile(optimizer = 'adam', loss = 'sparse_categorical_crossentropy', metrics = ['accuracy'])\n",
    "model.fit(x_train, y_train, epochs = 5)\n",
    "# Check for overfitment\n",
    "val_loss, val_acc = model.evaluate(x_test, y_test)\n",
    "print(val_loss, val_acc)"
   ]
  },
  {
   "cell_type": "code",
   "execution_count": 42,
   "metadata": {},
   "outputs": [],
   "source": [
    "model.save('num_reader.model')"
   ]
  },
  {
   "cell_type": "code",
   "execution_count": 43,
   "metadata": {},
   "outputs": [
    {
     "name": "stdout",
     "output_type": "stream",
     "text": [
      "[[9.3450456e-09 8.6497562e-07 2.6949679e-06 ... 9.9263918e-01\n",
      "  5.1489525e-07 9.3258612e-05]\n",
      " [2.7379151e-12 1.0031432e-04 9.9989581e-01 ... 1.7066576e-08\n",
      "  2.0081417e-10 1.3632218e-16]\n",
      " [3.2941241e-08 9.9927741e-01 7.3149727e-06 ... 1.9662792e-05\n",
      "  5.9220300e-04 2.3364832e-06]\n",
      " ...\n",
      " [1.0743837e-09 4.0216784e-07 1.7420105e-07 ... 4.9371814e-05\n",
      "  8.7785418e-07 8.0848360e-05]\n",
      " [2.4905501e-07 1.3901702e-07 3.0149497e-08 ... 5.7380493e-07\n",
      "  2.4851693e-03 9.3616386e-09]\n",
      " [3.2036189e-06 8.2658973e-09 5.0336610e-09 ... 3.1231934e-10\n",
      "  1.5632095e-08 6.8784147e-09]]\n"
     ]
    }
   ],
   "source": [
    "new_model = tf.keras.models.load_model('num_reader.model')\n",
    "predictions = new_model.predict([x_test])\n",
    "print(predictions)"
   ]
  },
  {
   "cell_type": "code",
   "execution_count": 50,
   "metadata": {},
   "outputs": [
    {
     "name": "stdout",
     "output_type": "stream",
     "text": [
      "6\n"
     ]
    },
    {
     "data": {
      "image/png": "[encoded data removed]",
      "text/plain": [
       "<Figure size 432x288 with 1 Axes>"
      ]
     },
     "metadata": {
      "needs_background": "light"
     },
     "output_type": "display_data"
    }
   ],
   "source": [
    "print(np.argmax(predictions[100]))\n",
    "plt.imshow(x_test[100], cmap = plt.cm.binary)\n",
    "plt.show()"
   ]
  },
  {
   "cell_type": "code",
   "execution_count": null,
   "metadata": {},
   "outputs": [],
   "source": []
  }
 ],
 "metadata": {
  "kernelspec": {
   "display_name": "Python 3",
   "language": "python",
   "name": "python3"
  },
  "language_info": {
   "codemirror_mode": {
    "name": "ipython",
    "version": 3
   },
   "file_extension": ".py",
   "mimetype": "text/x-python",
   "name": "python",
   "nbconvert_exporter": "python",
   "pygments_lexer": "ipython3",
   "version": "3.6.9"
  }
 },
 "nbformat": 4,
 "nbformat_minor": 2
}
